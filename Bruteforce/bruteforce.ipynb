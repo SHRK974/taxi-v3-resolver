{
 "cells": [
  {
   "cell_type": "markdown",
   "metadata": {},
   "source": [
    "# Taxi-V3 - Gym OpenAI - Q-Learning\n",
    "\n",
    "## Introduction\n",
    "\n",
    "There are `four designated locations` in the grid world indicated by `R`(ed), `B`(lue), `G`(reen), and `Y`(ellow). \n",
    "\n",
    "When the episode starts,\n",
    "\n",
    "- The taxi starts off at a random square and the passenger is at a random location. \n",
    "- The taxi drive to the passenger's location, pick up the passenger, drive to the passenger's destination (another one of the four specified locations), and then drop off the passenger. \n",
    "\n",
    "Once the passenger is dropped off, the episode ends. \n",
    "\n",
    "## Actions\n",
    "\n",
    "There are `six possible actions`:\n",
    "\n",
    "- `0`: move south\n",
    "- `1`: move north\n",
    "- `2`: move east\n",
    "- `3`: move west\n",
    "- `4`: pickup passenger\n",
    "- `5`: drop off passenger\n",
    "\n",
    "## Rendering\n",
    "\n",
    "- blue: passenger\n",
    "- magenta: destination\n",
    "- yellow: empty taxi\n",
    "- green: full taxi\n",
    "- other letters (R, G, B and Y): locations for passengers and destinations"
   ]
  },
  {
   "cell_type": "markdown",
   "metadata": {},
   "source": []
  }
 ],
 "metadata": {
  "kernelspec": {
   "display_name": ".venv",
   "language": "python",
   "name": "python3"
  },
  "language_info": {
   "name": "python",
   "version": "3.11.6"
  }
 },
 "nbformat": 4,
 "nbformat_minor": 2
}

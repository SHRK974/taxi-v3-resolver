{
 "cells": [
  {
   "cell_type": "markdown",
   "metadata": {},
   "source": [
    "# Taxi-V3 - Gym OpenAI - Q-Learning\n",
    "\n",
    "## Introduction\n",
    "\n",
    "There are `four designated locations` in the grid world indicated by `R`(ed), `B`(lue), `G`(reen), and `Y`(ellow). \n",
    "\n",
    "When the episode starts,\n",
    "\n",
    "- The taxi starts off at a random square and the passenger is at a random location. \n",
    "- The taxi drive to the passenger's location, pick up the passenger, drive to the passenger's destination (another one of the four specified locations), and then drop off the passenger. \n",
    "\n",
    "Once the passenger is dropped off, the episode ends. \n",
    "\n",
    "## Actions\n",
    "\n",
    "There are `six possible actions`:\n",
    "\n",
    "- `0`: move south\n",
    "- `1`: move north\n",
    "- `2`: move east\n",
    "- `3`: move west\n",
    "- `4`: pickup passenger\n",
    "- `5`: drop off passenger\n",
    "\n",
    "## Rendering\n",
    "\n",
    "- blue: passenger\n",
    "- magenta: destination\n",
    "- yellow: empty taxi\n",
    "- green: full taxi\n",
    "- other letters (R, G, B and Y): locations for passengers and destinations"
   ]
  },
  {
   "cell_type": "code",
   "execution_count": 2,
   "metadata": {},
   "outputs": [],
   "source": [
    "# Imports\n",
    "import gymnasium  as gym"
   ]
  },
  {
   "cell_type": "code",
   "execution_count": 8,
   "metadata": {},
   "outputs": [
    {
     "name": "stdout",
     "output_type": "stream",
     "text": [
      "+---------+\n",
      "|R: | : :\u001b[35mG\u001b[0m|\n",
      "| : | : : |\n",
      "| : : : : |\n",
      "| | : | : |\n",
      "|\u001b[34;1mY\u001b[0m| :\u001b[43m \u001b[0m|B: |\n",
      "+---------+\n",
      "\n",
      "\n"
     ]
    }
   ],
   "source": [
    "env = gym.make(\"Taxi-v3\", render_mode=\"ansi\") # modes: ['human', 'ansi', 'rgb_array']\n",
    "env.reset()\n",
    "print(env.render())"
   ]
  },
  {
   "cell_type": "code",
   "execution_count": 5,
   "metadata": {},
   "outputs": [
    {
     "name": "stdout",
     "output_type": "stream",
     "text": [
      "Number of actions: 6\n",
      "Number of states: 500\n"
     ]
    }
   ],
   "source": [
    "action_size = env.action_space.n\n",
    "state_size = env.observation_space.n\n",
    "\n",
    "print(\"Number of actions: %d\" % env.action_space.n)\n",
    "print(\"Number of states: %d\" % env.observation_space.n)"
   ]
  },
  {
   "cell_type": "code",
   "execution_count": null,
   "metadata": {},
   "outputs": [],
   "source": []
  }
 ],
 "metadata": {
  "kernelspec": {
   "display_name": ".venv",
   "language": "python",
   "name": "python3"
  },
  "language_info": {
   "codemirror_mode": {
    "name": "ipython",
    "version": 3
   },
   "file_extension": ".py",
   "mimetype": "text/x-python",
   "name": "python",
   "nbconvert_exporter": "python",
   "pygments_lexer": "ipython3",
   "version": "3.11.6"
  }
 },
 "nbformat": 4,
 "nbformat_minor": 2
}
